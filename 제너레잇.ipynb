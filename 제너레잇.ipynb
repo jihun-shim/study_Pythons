{
 "cells": [
  {
   "cell_type": "code",
   "execution_count": 2,
   "id": "e47e4d28",
   "metadata": {},
   "outputs": [],
   "source": [
    "def calculate_distance(pos1, pos2):\n",
    "    x1, y1 = pos1\n",
    "    x2, y2 = pos2\n",
    "    return ((x2 - x1) ** 2 + (y2 - y1) ** 2) ** 0.5"
   ]
  },
  {
   "cell_type": "code",
   "execution_count": 3,
   "id": "48b4ce7d",
   "metadata": {},
   "outputs": [],
   "source": [
    "def find_stairs(graph):\n",
    "    nodes = {node['id']: node['pos'] for node in graph['nodes']}\n",
    "    edges = {(edge['from'], edge['to']) for edge in graph['edges']}\n",
    "\n",
    "    # Leaf nodes 찾기\n",
    "    leaf_nodes = [node['id'] for node in graph['nodes'] if sum(1 for e in graph['edges'] if node['id'] in (e['from'], e['to'])) == 1]\n",
    "\n",
    "    # Dead-end 길이 체크\n",
    "    stairs = set()\n",
    "    for leaf in leaf_nodes:\n",
    "        # Leaf에서 시작해 거리 계산 (간단히 직선 거리로 가정)\n",
    "        current = leaf\n",
    "        distance = 0\n",
    "        while current in [e['from'] for e in graph['edges']] or current in [e['to'] for e in graph['edges']]:\n",
    "            next_nodes = [e['to'] if e['from'] == current else e['from'] for e in graph['edges'] if current in (e['from'], e['to'])]\n",
    "            if not next_nodes:\n",
    "                break\n",
    "            next_node = next_nodes[0]\n",
    "            distance += calculate_distance(nodes[current], nodes[next_node])\n",
    "            current = next_node\n",
    "        if distance > 50:\n",
    "            stairs.add(leaf)\n",
    "\n",
    "    # 모든 노드에서 250피트 체크 (간단히 초기 계단으로만)\n",
    "    for node_id in nodes:\n",
    "        min_distance = float('inf')\n",
    "        for stair in stairs:\n",
    "            dist = calculate_distance(nodes[node_id], nodes[stair])\n",
    "            min_distance = min(min_distance, dist)\n",
    "        if min_distance > 250:\n",
    "            # 더 많은 계단 필요 (여기서는 간단히 추가하지 않음)\n",
    "            pass\n",
    "\n",
    "    return list(stairs)"
   ]
  },
  {
   "cell_type": "code",
   "execution_count": null,
   "id": "0e16c9ed",
   "metadata": {},
   "outputs": [],
   "source": []
  }
 ],
 "metadata": {
  "kernelspec": {
   "display_name": "Python 3",
   "language": "python",
   "name": "python3"
  },
  "language_info": {
   "codemirror_mode": {
    "name": "ipython",
    "version": 3
   },
   "file_extension": ".py",
   "mimetype": "text/x-python",
   "name": "python",
   "nbconvert_exporter": "python",
   "pygments_lexer": "ipython3",
   "version": "3.11.11"
  }
 },
 "nbformat": 4,
 "nbformat_minor": 5
}
